{
 "cells": [
  {
   "cell_type": "markdown",
   "id": "7bf299a2-4580-4d97-abb7-1faea4167cf3",
   "metadata": {},
   "source": [
    "# Importing libraries"
   ]
  },
  {
   "cell_type": "code",
   "execution_count": 2,
   "id": "38d6ec5e-06a1-4ff6-80ca-2e56d1d81575",
   "metadata": {},
   "outputs": [],
   "source": [
    "import wikipedia"
   ]
  },
  {
   "cell_type": "markdown",
   "id": "5ed7e13d-14df-4aea-8bd7-bb10f6637ac9",
   "metadata": {},
   "source": [
    "# Sumarization"
   ]
  },
  {
   "cell_type": "code",
   "execution_count": null,
   "id": "e03c6b22-ae36-4419-a71d-04683b72de8c",
   "metadata": {},
   "outputs": [
    {
     "name": "stdout",
     "output_type": "stream",
     "text": [
      "🔍 Enter a topic to search on Wikipedia:  Messi Lionel\n"
     ]
    },
    {
     "name": "stdout",
     "output_type": "stream",
     "text": [
      "\n",
      "📄 Wikipedia Summary:\n",
      "\n",
      "Lionel Andrés \"Leo\" Messi (Spanish pronunciation: [ljoˈnel anˈdɾes ˈmesi] ; born 24 June 1987) is an Argentine professional footballer who plays as a forward for and captains both Major League Soccer club Inter Miami and the Argentina national team. Widely regarded as one of the greatest players in history, Messi set numerous records for individual accolades won throughout his professional footballing career such as eight Ballon d'Or awards and eight times being named the world's best player by FIFA. He is the most decorated player in the history of professional football having won 45 team trophies, including twelve Big Five league titles, four UEFA Champions Leagues, two Copa Américas, and one FIFA World Cup. Messi holds the records for most European Golden Shoes (6), most goals in a calendar year (91), most goals for a single club (672, with Barcelona), most goals (474), hat-tricks (36) and assists (192) in La Liga, most assists (18) and goal contributions (32) in the Copa América, most goal contributions (21) in the World Cup, most international appearances (193) and international goals (112) by a South American male, and the second-most in the latter category outright. A prolific goalscorer and creative playmaker, Messi has scored over 850 senior career goals and has provided over 380 assists for club and country.\n",
      "Born in Rosario, Argentina, Messi relocated to Spain to join Barcelona at age 13, and made his competitive debut at age 17 in October 2004.\n"
     ]
    }
   ],
   "source": [
    "def summarize_topic():\n",
    "    try:\n",
    "        topic = input(\"🔍 Enter a topic to search on Wikipedia: \").strip()\n",
    "        summary = wikipedia.summary(topic, sentences=5)\n",
    "        print(\"\\n📄 Wikipedia Summary:\\n\")\n",
    "        print(summary)\n",
    "\n",
    "    except wikipedia.exceptions.DisambiguationError as e:\n",
    "        print(\"⚠️ The topic is ambiguous. Suggestions:\")\n",
    "        print(\", \".join(e.options[:5]))\n",
    "\n",
    "    except wikipedia.exceptions.PageError:\n",
    "        print(\"❌ No page found for the given topic.\")\n",
    "\n",
    "    except Exception as e:\n",
    "        print(\"⚠️ An unexpected error occurred:\", str(e))\n",
    "\n",
    "\n",
    "if __name__ == \"__main__\":\n",
    "    summarize_topic()"
   ]
  }
 ],
 "metadata": {
  "kernelspec": {
   "display_name": "Python 3 (ipykernel)",
   "language": "python",
   "name": "python3"
  },
  "language_info": {
   "codemirror_mode": {
    "name": "ipython",
    "version": 3
   },
   "file_extension": ".py",
   "mimetype": "text/x-python",
   "name": "python",
   "nbconvert_exporter": "python",
   "pygments_lexer": "ipython3",
   "version": "3.12.7"
  }
 },
 "nbformat": 4,
 "nbformat_minor": 5
}
